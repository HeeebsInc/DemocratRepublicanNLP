{
 "cells": [
  {
   "cell_type": "code",
   "execution_count": null,
   "metadata": {},
   "outputs": [],
   "source": [
    "import pandas as pd\n",
    "import matplotlib.pyplot as plt\n",
    "import numpy as np"
   ]
  },
  {
   "cell_type": "code",
   "execution_count": null,
   "metadata": {},
   "outputs": [],
   "source": [
    "cnbc = pd.read_csv('FData/cnbc_headlines.csv')\n",
    "guardian = pd.read_csv('FData/guardian_headlines.csv')\n",
    "reuters = pd.read_csv('FData/reuters_headlines.csv')\n",
    "stocker_bot = pd.read_csv('FData/stockerbot-export1.csv')"
   ]
  },
  {
   "cell_type": "code",
   "execution_count": null,
   "metadata": {},
   "outputs": [],
   "source": [
    "#convert the times for each to datetime format\n",
    "cnbc['Time'] = pd.to_datetime(cnbc['Time']).dt.normalize()\n",
    "guardian['Time'] = pd.to_datetime(guardian['Time'], errors = 'coerce').dt.normalize()\n",
    "reuters['Time'] = pd.to_datetime(reuters['Time'], errors = 'coerce').dt.normalize()"
   ]
  },
  {
   "cell_type": "code",
   "execution_count": null,
   "metadata": {},
   "outputs": [],
   "source": [
    "cnbc.head(5)"
   ]
  },
  {
   "cell_type": "code",
   "execution_count": null,
   "metadata": {},
   "outputs": [],
   "source": [
    "def combine_headlines_descriptions(df, source): \n",
    "    df = df.dropna(subset = ['Time'])\n",
    "    headlines = np.array([[i] for i in df.Headlines.values])\n",
    "    descriptions = np.array([[i] for i in df.Description.values])\n",
    "    combined = np.concatenate((headlines, descriptions), axis = 1)\n",
    "    new_combined = []\n",
    "    for i in combined: \n",
    "        new_combined.append(' '.join(i))\n",
    "    df['Combined'] = new_combined\n",
    "    df = df.drop(['Headlines', 'Description'], axis = 1)\n",
    "    df['Source'] = [source for i in range(len(df))]\n",
    "    return df\n",
    "    \n",
    "cnbc = combine_headlines_descriptions(cnbc, source = 'CNBC')\n",
    "reuters = combine_headlines_descriptions(reuters, source = 'Reuters')"
   ]
  },
  {
   "cell_type": "code",
   "execution_count": null,
   "metadata": {},
   "outputs": [],
   "source": [
    "guardian['Combined'] = guardian.Headlines.values\n",
    "guardian = guardian.drop(['Headlines'], axis = 1)\n",
    "guardian['Source'] = ['Guardian' for i in range(len(guardian))]"
   ]
  },
  {
   "cell_type": "code",
   "execution_count": null,
   "metadata": {},
   "outputs": [],
   "source": [
    "combined_df = pd.concat([guardian, cnbc, reuters])"
   ]
  },
  {
   "cell_type": "code",
   "execution_count": null,
   "metadata": {},
   "outputs": [],
   "source": [
    "combined_df.head()"
   ]
  },
  {
   "cell_type": "code",
   "execution_count": null,
   "metadata": {},
   "outputs": [],
   "source": [
    "combined_df.to_csv('FData/CombinedHeadlines.csv', index = False)"
   ]
  },
  {
   "cell_type": "code",
   "execution_count": null,
   "metadata": {},
   "outputs": [],
   "source": [
    "grouped_df = pd.DataFrame()\n",
    "unique_dates = combined_df.Time.unique()\n",
    "grouped_headlines = []\n",
    "for date in unique_dates: \n",
    "    temp_df = combined_df[combined_df.Time == date]\n",
    "    headlines = temp_df.Combined.values \n",
    "    combined_headlines = ' '.join(headlines)\n",
    "    grouped_headlines.append(combined_headlines)\n",
    "     \n",
    "    \n",
    "grouped_df['Headlines'] = grouped_headlines \n",
    "grouped_df['Time'] = unique_dates"
   ]
  },
  {
   "cell_type": "code",
   "execution_count": null,
   "metadata": {},
   "outputs": [],
   "source": [
    "grouped_df.sort_values('Time', ascending = True)"
   ]
  },
  {
   "cell_type": "code",
   "execution_count": null,
   "metadata": {},
   "outputs": [],
   "source": [
    "spy = pd.read_csv('FData/SPYDaily.csv')"
   ]
  },
  {
   "cell_type": "code",
   "execution_count": null,
   "metadata": {},
   "outputs": [],
   "source": [
    "spy"
   ]
  },
  {
   "cell_type": "code",
   "execution_count": null,
   "metadata": {},
   "outputs": [],
   "source": [
    "spy_seg = spy[(spy.Time >= '2017-12-17') & (spy.Time < '2020-07-18')]"
   ]
  },
  {
   "cell_type": "code",
   "execution_count": null,
   "metadata": {},
   "outputs": [],
   "source": [
    "spy_seg"
   ]
  },
  {
   "cell_type": "code",
   "execution_count": null,
   "metadata": {},
   "outputs": [],
   "source": [
    "spy_seg = spy_seg.set_index(pd.to_datetime(spy_seg.Time)).drop('Time', axis = 1)\n",
    "grouped_df = grouped_df.set_index(pd.to_datetime(grouped_df.Time)).drop('Time', axis = 1)"
   ]
  },
  {
   "cell_type": "code",
   "execution_count": null,
   "metadata": {},
   "outputs": [],
   "source": [
    "spy_grouped = pd.concat([grouped_df, spy_seg], axis = 1, join = 'inner')"
   ]
  },
  {
   "cell_type": "code",
   "execution_count": null,
   "metadata": {},
   "outputs": [],
   "source": [
    "spy_grouped.head(5)"
   ]
  },
  {
   "cell_type": "code",
   "execution_count": null,
   "metadata": {},
   "outputs": [],
   "source": [
    "spy_grouped['CloseDiff'] = spy_grouped['4. close'].diff()\n",
    "spy_grouped = spy_grouped.dropna()"
   ]
  },
  {
   "cell_type": "code",
   "execution_count": null,
   "metadata": {},
   "outputs": [],
   "source": [
    "spy_grouped.head()"
   ]
  },
  {
   "cell_type": "code",
   "execution_count": null,
   "metadata": {},
   "outputs": [],
   "source": [
    "close_diff = []\n",
    "for diff in spy_grouped.CloseDiff.values[1:]: \n",
    "    close_diff.append(diff)\n",
    "close_diff.append(None)\n",
    "spy_grouped['CloseDiffNew'] = close_diff"
   ]
  },
  {
   "cell_type": "code",
   "execution_count": null,
   "metadata": {},
   "outputs": [],
   "source": [
    "spy_grouped"
   ]
  },
  {
   "cell_type": "code",
   "execution_count": null,
   "metadata": {},
   "outputs": [],
   "source": [
    "def get_target(x): \n",
    "    if x < 0: \n",
    "        return 0 \n",
    "    else: \n",
    "        return 1 \n",
    "\n",
    "spy_grouped['Target'] = spy_grouped.OpenDiffNew.map(get_target)"
   ]
  },
  {
   "cell_type": "code",
   "execution_count": null,
   "metadata": {},
   "outputs": [],
   "source": [
    "spy_grouped.dropna()"
   ]
  },
  {
   "cell_type": "code",
   "execution_count": null,
   "metadata": {},
   "outputs": [],
   "source": [
    "spy_grouped = spy_grouped.rename(columns = {'4. close': 'Close', '5. volume': 'Volume'})"
   ]
  },
  {
   "cell_type": "code",
   "execution_count": null,
   "metadata": {},
   "outputs": [],
   "source": [
    "spy_grouped.head(2)"
   ]
  },
  {
   "cell_type": "code",
   "execution_count": null,
   "metadata": {},
   "outputs": [],
   "source": [
    "assert False"
   ]
  },
  {
   "cell_type": "code",
   "execution_count": null,
   "metadata": {},
   "outputs": [],
   "source": [
    "spy_grouped[['Headlines', 'Close', 'Target']].to_csv('FData/SPYHeadGrouped.csv')"
   ]
  },
  {
   "cell_type": "markdown",
   "metadata": {},
   "source": [
    "## Alpha Vantage"
   ]
  },
  {
   "cell_type": "code",
   "execution_count": null,
   "metadata": {},
   "outputs": [],
   "source": [
    "import config\n",
    "from alpha_vantage.timeseries import TimeSeries"
   ]
  },
  {
   "cell_type": "code",
   "execution_count": null,
   "metadata": {},
   "outputs": [],
   "source": [
    "api_key = config.api_key\n",
    "ticker = 'SPY'"
   ]
  },
  {
   "cell_type": "code",
   "execution_count": null,
   "metadata": {},
   "outputs": [],
   "source": [
    "ts = TimeSeries(key = api_key, output_format = 'pandas')\n",
    "\n",
    "data_ts, meta_ts = ts.get_daily(symbol = ticker, outputsize = 'full')"
   ]
  },
  {
   "cell_type": "code",
   "execution_count": null,
   "metadata": {},
   "outputs": [],
   "source": [
    "data_ts['Time'] = data_ts.index"
   ]
  },
  {
   "cell_type": "code",
   "execution_count": null,
   "metadata": {},
   "outputs": [],
   "source": [
    "data_ts.to_csv('FData/SPYDaily.csv', index = False)"
   ]
  },
  {
   "cell_type": "code",
   "execution_count": null,
   "metadata": {},
   "outputs": [],
   "source": []
  }
 ],
 "metadata": {
  "kernelspec": {
   "display_name": "DemocratRepublicanNLP",
   "language": "python",
   "name": "democratrepublicannlp"
  },
  "language_info": {
   "codemirror_mode": {
    "name": "ipython",
    "version": 3
   },
   "file_extension": ".py",
   "mimetype": "text/x-python",
   "name": "python",
   "nbconvert_exporter": "python",
   "pygments_lexer": "ipython3",
   "version": "3.8.5"
  }
 },
 "nbformat": 4,
 "nbformat_minor": 2
}
