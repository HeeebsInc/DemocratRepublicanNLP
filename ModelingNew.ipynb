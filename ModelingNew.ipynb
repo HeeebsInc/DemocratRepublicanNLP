{
 "cells": [
  {
   "cell_type": "code",
   "execution_count": 1,
   "metadata": {},
   "outputs": [],
   "source": [
    "import pandas as pd\n",
    "import numpy as np \n",
    "import pickle\n",
    "import matplotlib.pyplot as plt\n",
    "from sklearn.linear_model import SGDClassifier, RidgeClassifier, LogisticRegression \n",
    "from sklearn.neighbors import KNeighborsClassifier\n",
    "from sklearn.naive_bayes import GaussianNB, MultinomialNB\n",
    "from sklearn.svm import SVC,LinearSVC\n",
    "from sklearn.model_selection import RepeatedStratifiedKFold, cross_val_score, GridSearchCV, RandomizedSearchCV\n",
    "from sklearn.metrics import classification_report, plot_confusion_matrix, confusion_matrix\n",
    "from sklearn.tree import DecisionTreeClassifier\n",
    "from sklearn.ensemble import RandomForestClassifier, StackingClassifier, BaggingClassifier, AdaBoostClassifier\n",
    "from sklearn.discriminant_analysis import LinearDiscriminantAnalysis\n",
    "from PyFiles import Functions as func\n",
    "from PyFiles import Preprocessing as process"
   ]
  },
  {
   "cell_type": "code",
   "execution_count": 2,
   "metadata": {},
   "outputs": [
    {
     "name": "stderr",
     "output_type": "stream",
     "text": [
      "C:\\Users\\Heeeb\\AppData\\Roaming\\Python\\Python38\\site-packages\\dateutil\\parser\\_parser.py:1213: UnknownTimezoneWarning: tzname ET identified but not understood.  Pass `tzinfos` argument in order to correctly return a timezone-aware datetime.  In a future version, this will raise an exception.\n",
      "  warnings.warn(\"tzname {tzname} identified but not understood.  \"\n",
      "F:\\Python\\NLPStockPredictions\\NLP_Stock_Predictor\\PyFiles\\Preprocessing.py:119: SettingWithCopyWarning: \n",
      "A value is trying to be set on a copy of a slice from a DataFrame.\n",
      "Try using .loc[row_indexer,col_indexer] = value instead\n",
      "\n",
      "See the caveats in the documentation: https://pandas.pydata.org/pandas-docs/stable/user_guide/indexing.html#returning-a-view-versus-a-copy\n",
      "  df['Combined'] = new_combined\n",
      "Grouping Rows By Dates: 100%|███████████████████████████████████████████████████████████████████████████████████████████████████████████████████████| 3875/3875 [00:02<00:00, 1437.54it/s]\n"
     ]
    }
   ],
   "source": [
    "ticker = 'SPY'\n",
    "\n",
    "df, df_dict = process.combine_headlines(ticker)"
   ]
  },
  {
   "cell_type": "markdown",
   "metadata": {},
   "source": [
    "### Model 1"
   ]
  },
  {
   "cell_type": "code",
   "execution_count": 3,
   "metadata": {},
   "outputs": [
    {
     "name": "stderr",
     "output_type": "stream",
     "text": [
      "Getting Preprocessing Objects and Transforming Data: 100%|██████████████████████████████████████████████████████████████████████████████████████████████████| 3/3 [00:20<00:00,  6.92s/it]"
     ]
    },
    {
     "name": "stdout",
     "output_type": "stream",
     "text": [
      "Train:\t2142\n",
      "1.0    1181\n",
      "0.0     961\n",
      "Name: Target, dtype: int64\n",
      "~~~~~~~~~~~~~~~~~~~~~~~~~~~~~~~~~~\n",
      "Test:\t536\n",
      "1.0    296\n",
      "0.0    240\n",
      "Name: Target, dtype: int64\n",
      "~~~~~~~~~~~~~~~~~~~~~~~~~~~~~~~~~~\n",
      "(2142, 18629)\n"
     ]
    },
    {
     "name": "stderr",
     "output_type": "stream",
     "text": [
      "\n"
     ]
    }
   ],
   "source": [
    "model_num = '1_1'\n",
    "max_feat = None \n",
    "min_df = 10\n",
    "max_df = 1.0 \n",
    "ngram = (1,2)\n",
    "pre_type = 'lemmet'\n",
    "vect_type = 'tfidf'\n",
    "\n",
    "new_df, x_train, x_test, y_train, y_test, preprocessing_dict = process.preprocess_tts(df, pre_type = pre_type, ngram = ngram, \n",
    "                                                                              max_features = max_feat, \n",
    "                                                                             min_df = min_df, max_df =max_df, \n",
    "                                                                              vect_type = vect_type)\n",
    "print(x_train.shape)"
   ]
  },
  {
   "cell_type": "code",
   "execution_count": 4,
   "metadata": {},
   "outputs": [
    {
     "name": "stdout",
     "output_type": "stream",
     "text": [
      "Train Accuracy: 0.592436974789916\n",
      "Test Accuracy: 0.5578358208955224\n"
     ]
    },
    {
     "data": {
      "image/png": "[encoded data removed]",
      "text/plain": [
       "<Figure size 432x288 with 4 Axes>"
      ]
     },
     "metadata": {
      "needs_background": "light"
     },
     "output_type": "display_data"
    }
   ],
   "source": [
    "models = {'Log': LogisticRegression(max_iter = 2500), 'Knn': KNeighborsClassifier(), \n",
    "          'DT': DecisionTreeClassifier(random_state = 10), 'LDA': LinearDiscriminantAnalysis(),\n",
    "          'Gaussian': GaussianNB(), \n",
    "           'LinearSVC': LinearSVC(max_iter = 2500, random_state = 10), 'SDGSVC': SGDClassifier(random_state = 10),  \n",
    "          'ADA': AdaBoostClassifier(random_state = 10), 'Bagging': BaggingClassifier(random_state = 10), \n",
    "          'Ridge': RidgeClassifier(random_state = 10), 'RF': RandomForestClassifier(random_state = 10)}\n",
    "\n",
    "new_models = func.stacked_model(models)\n",
    "stacked = new_models['Stacked']\n",
    "stacked.n_jobs = -1\n",
    "stacked.fit(x_train, y_train)\n",
    "print(f'Train Accuracy: {stacked.score(x_train, y_train)}')\n",
    "print(f'Test Accuracy: {stacked.score(x_test, y_test)}')\n",
    "\n",
    "fig, ax = plt.subplots(1,2)\n",
    "plt.suptitle(f'Model: {model_num}')\n",
    "plot_confusion_matrix(stacked, x_train, y_train, ax = ax[0], display_labels = ['Down', 'Up']) \n",
    "plot_confusion_matrix(stacked, x_test, y_test, ax = ax[1], display_labels = ['Down', 'Up']) \n",
    "ax[0].set_title('Train')\n",
    "ax[1].set_title('Test')\n",
    "plt.tight_layout() \n",
    "plt.savefig(f'Images/Sklearn/CM_{model_num}.png')"
   ]
  },
  {
   "cell_type": "code",
   "execution_count": 5,
   "metadata": {},
   "outputs": [
    {
     "name": "stderr",
     "output_type": "stream",
     "text": [
      "Evaluating STACKED: 100%|██████████████████████████████████████████████████████████████████████████████████████████████████████████████████████████████| 12/12 [1:28:30<00:00, 442.52s/it]\n"
     ]
    }
   ],
   "source": [
    "#getting results and model\n",
    "result_dict = func.test_models(x_train, y_train, new_models, n_jobs = 14)"
   ]
  },
  {
   "cell_type": "code",
   "execution_count": 6,
   "metadata": {},
   "outputs": [
    {
     "data": {
      "image/png": "[encoded data removed]",
      "text/plain": [
       "<Figure size 720x576 with 1 Axes>"
      ]
     },
     "metadata": {
      "needs_background": "light"
     },
     "output_type": "display_data"
    }
   ],
   "source": [
    "func.plot_model_results(result_dict, filepath = f'Images/Sklearn/ACC_{model_num}.png')"
   ]
  },
  {
   "cell_type": "code",
   "execution_count": null,
   "metadata": {},
   "outputs": [],
   "source": [
    "assert False"
   ]
  },
  {
   "cell_type": "markdown",
   "metadata": {},
   "source": [
    "### Model 2 "
   ]
  },
  {
   "cell_type": "code",
   "execution_count": null,
   "metadata": {},
   "outputs": [],
   "source": [
    "#CHANGE \n",
    "model_num = '1_2'\n",
    "max_feat = 10000 \n",
    "min_df = 20\n",
    "max_df = 1.0 \n",
    "ngram = (1,2)\n",
    "pre_type = 'stem'\n",
    "vect_type = 'tfidf'\n",
    "\n",
    "new_df, x_train, x_test, y_train, y_test, preprocessing_dict = process.preprocess_tts(df, pre_type = pre_type, ngram = ngram, \n",
    "                                                                              max_features = max_feat, \n",
    "                                                                             min_df = min_df, max_df =max_df, \n",
    "                                                                              vect_type = vect_type)\n",
    "print(x_train.shape)"
   ]
  },
  {
   "cell_type": "code",
   "execution_count": null,
   "metadata": {},
   "outputs": [],
   "source": [
    "models = {'Log': LogisticRegression(max_iter = 2500), 'Knn': KNeighborsClassifier(), \n",
    "          'DT': DecisionTreeClassifier(random_state = 10), 'LDA': LinearDiscriminantAnalysis(),\n",
    "          'Gaussian': GaussianNB(), \n",
    "           'LinearSVC': LinearSVC(max_iter = 2500, random_state = 10), 'SDGSVC': SGDClassifier(random_state = 10),  \n",
    "          'ADA': AdaBoostClassifier(random_state = 10), 'Bagging': BaggingClassifier(random_state = 10), \n",
    "          'Ridge': RidgeClassifier(random_state = 10), 'RF': RandomForestClassifier(random_state = 10)}\n",
    "\n",
    "new_models = func.stacked_model(models)\n",
    "stacked = new_models['Stacked']\n",
    "stacked.n_jobs = -1\n",
    "stacked.fit(x_train, y_train)\n",
    "print(f'Train Accuracy: {stacked.score(x_train, y_train)}')\n",
    "print(f'Test Accuracy: {stacked.score(x_test, y_test)}')\n",
    "\n",
    "fig, ax = plt.subplots(1,2)\n",
    "plt.suptitle(f'Model: {model_num}')\n",
    "plot_confusion_matrix(stacked, x_train, y_train, ax = ax[0], display_labels = ['Down', 'Up']) \n",
    "plot_confusion_matrix(stacked, x_test, y_test, ax = ax[1], display_labels = ['Down', 'Up']) \n",
    "ax[0].set_title('Train')\n",
    "ax[1].set_title('Test')\n",
    "plt.tight_layout() \n",
    "plt.savefig(f'Images/Sklearn/CM_{model_num}.png')"
   ]
  },
  {
   "cell_type": "code",
   "execution_count": null,
   "metadata": {},
   "outputs": [],
   "source": [
    "# getting results and model\n",
    "result_dict = func.test_models(x_train, y_train, new_models, n_jobs = 5)"
   ]
  },
  {
   "cell_type": "code",
   "execution_count": null,
   "metadata": {},
   "outputs": [],
   "source": [
    "func.plot_model_results(result_dict, filepath = f'Images/Sklearn/ACC_{model_num}.png')"
   ]
  },
  {
   "cell_type": "code",
   "execution_count": null,
   "metadata": {},
   "outputs": [],
   "source": [
    "assert False\n",
    "\n",
    "#here"
   ]
  },
  {
   "cell_type": "markdown",
   "metadata": {},
   "source": [
    "### Model 3"
   ]
  },
  {
   "cell_type": "code",
   "execution_count": null,
   "metadata": {},
   "outputs": [],
   "source": [
    "model_num = '3_1'\n",
    "max_feat = 5000 \n",
    "min_df = 2\n",
    "max_df = 1.0 \n",
    "ngram = (1,2)\n",
    "pre_type = 'lemmet'\n",
    "\n",
    "new_df, x_train, x_test, y_train, y_test, preprocessing_dict = process.preprocess_tts(df, pre_type = pre_type, \n",
    "                                                                      ngram = ngram,  max_features = max_feat, \n",
    "                                                                             min_df = min_df, max_df = max_df)"
   ]
  },
  {
   "cell_type": "code",
   "execution_count": null,
   "metadata": {},
   "outputs": [],
   "source": [
    "models = {'Log': LogisticRegression(max_iter = 2500), 'Knn': KNeighborsClassifier(), \n",
    "          'DT': DecisionTreeClassifier(random_state = 10), 'LDA': LinearDiscriminantAnalysis(),\n",
    "          'Gaussian': GaussianNB(), \n",
    "           'LinearSVC': LinearSVC(max_iter = 2500, random_state = 10), 'SDGSVC': SGDClassifier(random_state = 10),  \n",
    "          'ADA': AdaBoostClassifier(random_state = 10), 'Bagging': BaggingClassifier(random_state = 10), \n",
    "          'Ridge': RidgeClassifier(random_state = 10), 'RF': RandomForestClassifier(random_state = 10)}\n",
    "\n",
    "new_models = func.stacked_model(models)\n",
    "stacked = new_models['Stacked']\n",
    "stacked.n_jobs = -1\n",
    "stacked.fit(x_train, y_train)\n",
    "print(f'Train Accuracy: {stacked.score(x_train, y_train)}')\n",
    "print(f'Test Accuracy: {stacked.score(x_test, y_test)}')\n",
    "\n",
    "fig, ax = plt.subplots(1,2)\n",
    "plt.suptitle(f'Model: {model_num}')\n",
    "plot_confusion_matrix(stacked, x_train, y_train, ax = ax[0], display_labels = ['Down', 'Up']) \n",
    "plot_confusion_matrix(stacked, x_test, y_test, ax = ax[1], display_labels = ['Down', 'Up']) \n",
    "ax[0].set_title('Train')\n",
    "ax[1].set_title('Test')\n",
    "plt.tight_layout() \n",
    "plt.savefig(f'Images/Sklearn/CM_{model_num}.png')"
   ]
  },
  {
   "cell_type": "code",
   "execution_count": null,
   "metadata": {},
   "outputs": [],
   "source": [
    "# getting results and model\n",
    "result_dict = func.test_models(x_train, y_train, new_models, n_jobs = 13)"
   ]
  },
  {
   "cell_type": "code",
   "execution_count": null,
   "metadata": {},
   "outputs": [],
   "source": [
    "func.plot_model_results(result_dict, filepath = f'Images/Sklearn/ACC_{model_num}.png')"
   ]
  },
  {
   "cell_type": "code",
   "execution_count": null,
   "metadata": {},
   "outputs": [],
   "source": [
    "assert False"
   ]
  },
  {
   "cell_type": "code",
   "execution_count": null,
   "metadata": {},
   "outputs": [],
   "source": []
  }
 ],
 "metadata": {
  "kernelspec": {
   "display_name": "DemocratRepublicanNLP",
   "language": "python",
   "name": "democratrepublicannlp"
  },
  "language_info": {
   "codemirror_mode": {
    "name": "ipython",
    "version": 3
   },
   "file_extension": ".py",
   "mimetype": "text/x-python",
   "name": "python",
   "nbconvert_exporter": "python",
   "pygments_lexer": "ipython3",
   "version": "3.8.5"
  }
 },
 "nbformat": 4,
 "nbformat_minor": 2
}
