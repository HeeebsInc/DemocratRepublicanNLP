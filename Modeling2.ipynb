{
 "cells": [
  {
   "cell_type": "code",
   "execution_count": 1,
   "metadata": {},
   "outputs": [],
   "source": [
    "import pandas as pd\n",
    "import numpy as np \n",
    "import pickle\n",
    "import matplotlib.pyplot as plt\n",
    "from sklearn.linear_model import SGDClassifier, RidgeClassifier, LogisticRegression \n",
    "from sklearn.neighbors import KNeighborsClassifier\n",
    "from sklearn.naive_bayes import GaussianNB, MultinomialNB\n",
    "from sklearn.svm import SVC,LinearSVC\n",
    "from sklearn.model_selection import RepeatedStratifiedKFold, cross_val_score, GridSearchCV, RandomizedSearchCV\n",
    "from sklearn.metrics import classification_report, plot_confusion_matrix, confusion_matrix\n",
    "from sklearn.tree import DecisionTreeClassifier\n",
    "from sklearn.ensemble import RandomForestClassifier, StackingClassifier, BaggingClassifier, AdaBoostClassifier\n",
    "from sklearn.discriminant_analysis import LinearDiscriminantAnalysis\n",
    "from PyFiles import Functions as func\n",
    "from PyFiles import Preprocessing as process"
   ]
  },
  {
   "cell_type": "code",
   "execution_count": null,
   "metadata": {},
   "outputs": [],
   "source": [
    "df = pd.read_csv('FData/Headlines/New/SPYHeadlinesGrouped1.csv')"
   ]
  },
  {
   "cell_type": "code",
   "execution_count": null,
   "metadata": {},
   "outputs": [],
   "source": [
    "df.head()"
   ]
  },
  {
   "cell_type": "markdown",
   "metadata": {},
   "source": [
    "### Model 1"
   ]
  },
  {
   "cell_type": "code",
   "execution_count": null,
   "metadata": {},
   "outputs": [],
   "source": [
    "model_num = '1_2'\n",
    "max_feat = 5000 \n",
    "min_df = 3\n",
    "max_df = 1.0 \n",
    "ngram = (1,1)\n",
    "pre_type = 'stem'\n",
    "\n",
    "new_df, x_train, x_test, y_train, y_test, preprocessing_dict = process.preprocess_tts(df, pre_type = pre_type, \n",
    "                                                                      ngram = ngram,  max_features = max_feat, \n",
    "                                                                             min_df = min_df, max_df = max_df)"
   ]
  },
  {
   "cell_type": "code",
   "execution_count": null,
   "metadata": {},
   "outputs": [],
   "source": [
    "new_df"
   ]
  },
  {
   "cell_type": "code",
   "execution_count": 4,
   "metadata": {},
   "outputs": [],
   "source": [
    "x_train, x_test, y_train, y_test, preprocessing_dict = pickle.load(open('Pickles/TTS_3.p', 'rb'))"
   ]
  },
  {
   "cell_type": "code",
   "execution_count": 5,
   "metadata": {},
   "outputs": [
    {
     "name": "stderr",
     "output_type": "stream",
     "text": [
      "F:\\ProgramFiles\\conda\\envs\\DemocratRepublicanNLP\\lib\\site-packages\\sklearn\\utils\\validation.py:72: DataConversionWarning: A column-vector y was passed when a 1d array was expected. Please change the shape of y to (n_samples, ), for example using ravel().\n",
      "  return f(**kwargs)\n"
     ]
    },
    {
     "name": "stdout",
     "output_type": "stream",
     "text": [
      "Train Accuracy: 0.10864745011086474\n",
      "Test Accuracy: 0.5567010309278351\n"
     ]
    },
    {
     "ename": "NameError",
     "evalue": "name 'model_num' is not defined",
     "output_type": "error",
     "traceback": [
      "\u001b[1;31m---------------------------------------------------------------------------\u001b[0m",
      "\u001b[1;31mNameError\u001b[0m                                 Traceback (most recent call last)",
      "\u001b[1;32m<ipython-input-5-f1ac2d5c02e9>\u001b[0m in \u001b[0;36m<module>\u001b[1;34m\u001b[0m\n\u001b[0;32m     14\u001b[0m \u001b[1;33m\u001b[0m\u001b[0m\n\u001b[0;32m     15\u001b[0m \u001b[0mfig\u001b[0m\u001b[1;33m,\u001b[0m \u001b[0max\u001b[0m \u001b[1;33m=\u001b[0m \u001b[0mplt\u001b[0m\u001b[1;33m.\u001b[0m\u001b[0msubplots\u001b[0m\u001b[1;33m(\u001b[0m\u001b[1;36m1\u001b[0m\u001b[1;33m,\u001b[0m\u001b[1;36m2\u001b[0m\u001b[1;33m)\u001b[0m\u001b[1;33m\u001b[0m\u001b[1;33m\u001b[0m\u001b[0m\n\u001b[1;32m---> 16\u001b[1;33m \u001b[0mplt\u001b[0m\u001b[1;33m.\u001b[0m\u001b[0msuptitle\u001b[0m\u001b[1;33m(\u001b[0m\u001b[1;34mf'Model: {model_num}'\u001b[0m\u001b[1;33m)\u001b[0m\u001b[1;33m\u001b[0m\u001b[1;33m\u001b[0m\u001b[0m\n\u001b[0m\u001b[0;32m     17\u001b[0m \u001b[0mplot_confusion_matrix\u001b[0m\u001b[1;33m(\u001b[0m\u001b[0mstacked\u001b[0m\u001b[1;33m,\u001b[0m \u001b[0mx_train\u001b[0m\u001b[1;33m,\u001b[0m \u001b[0my_train\u001b[0m\u001b[1;33m,\u001b[0m \u001b[0max\u001b[0m \u001b[1;33m=\u001b[0m \u001b[0max\u001b[0m\u001b[1;33m[\u001b[0m\u001b[1;36m0\u001b[0m\u001b[1;33m]\u001b[0m\u001b[1;33m,\u001b[0m \u001b[0mdisplay_labels\u001b[0m \u001b[1;33m=\u001b[0m \u001b[1;33m[\u001b[0m\u001b[1;34m'Down'\u001b[0m\u001b[1;33m,\u001b[0m \u001b[1;34m'Up'\u001b[0m\u001b[1;33m]\u001b[0m\u001b[1;33m)\u001b[0m\u001b[1;33m\u001b[0m\u001b[1;33m\u001b[0m\u001b[0m\n\u001b[0;32m     18\u001b[0m \u001b[0mplot_confusion_matrix\u001b[0m\u001b[1;33m(\u001b[0m\u001b[0mstacked\u001b[0m\u001b[1;33m,\u001b[0m \u001b[0mx_test\u001b[0m\u001b[1;33m,\u001b[0m \u001b[0my_test\u001b[0m\u001b[1;33m,\u001b[0m \u001b[0max\u001b[0m \u001b[1;33m=\u001b[0m \u001b[0max\u001b[0m\u001b[1;33m[\u001b[0m\u001b[1;36m1\u001b[0m\u001b[1;33m]\u001b[0m\u001b[1;33m,\u001b[0m \u001b[0mdisplay_labels\u001b[0m \u001b[1;33m=\u001b[0m \u001b[1;33m[\u001b[0m\u001b[1;34m'Down'\u001b[0m\u001b[1;33m,\u001b[0m \u001b[1;34m'Up'\u001b[0m\u001b[1;33m]\u001b[0m\u001b[1;33m)\u001b[0m\u001b[1;33m\u001b[0m\u001b[1;33m\u001b[0m\u001b[0m\n",
      "\u001b[1;31mNameError\u001b[0m: name 'model_num' is not defined"
     ]
    },
    {
     "data": {
      "image/png": "[encoded data removed]",
      "text/plain": [
       "<Figure size 432x288 with 2 Axes>"
      ]
     },
     "metadata": {
      "needs_background": "light"
     },
     "output_type": "display_data"
    }
   ],
   "source": [
    "models = {'Log': LogisticRegression(max_iter = 2500), 'Knn': KNeighborsClassifier(), \n",
    "          'DT': DecisionTreeClassifier(random_state = 10), 'LDA': LinearDiscriminantAnalysis(),\n",
    "          'Gaussian': GaussianNB(), \n",
    "           'LinearSVC': LinearSVC(max_iter = 2500, random_state = 10), 'SDGSVC': SGDClassifier(random_state = 10),  \n",
    "          'ADA': AdaBoostClassifier(random_state = 10), 'Bagging': BaggingClassifier(random_state = 10), \n",
    "          'Ridge': RidgeClassifier(random_state = 10), 'RF': RandomForestClassifier(random_state = 10)}\n",
    "\n",
    "new_models = func.stacked_model(models)\n",
    "stacked = new_models['Stacked']\n",
    "stacked.n_jobs = -1\n",
    "stacked.fit(x_train, y_train)\n",
    "print(f'Train Accuracy: {stacked.score(x_train, y_train)}')\n",
    "print(f'Test Accuracy: {stacked.score(x_test, y_test)}')\n",
    "\n",
    "fig, ax = plt.subplots(1,2)\n",
    "plt.suptitle(f'Model: {model_num}')\n",
    "plot_confusion_matrix(stacked, x_train, y_train, ax = ax[0], display_labels = ['Down', 'Up']) \n",
    "plot_confusion_matrix(stacked, x_test, y_test, ax = ax[1], display_labels = ['Down', 'Up']) \n",
    "ax[0].set_title('Train')\n",
    "ax[1].set_title('Test')\n",
    "plt.tight_layout() \n",
    "# plt.savefig(f'Images/Sklearn/CM_{model_num}.png')"
   ]
  },
  {
   "cell_type": "code",
   "execution_count": null,
   "metadata": {},
   "outputs": [],
   "source": [
    "#getting results and model\n",
    "result_dict = func.test_models(x_train, y_train, new_models, n_jobs = 5)"
   ]
  },
  {
   "cell_type": "code",
   "execution_count": null,
   "metadata": {},
   "outputs": [],
   "source": [
    "func.plot_model_results(result_dict, filepath = f'Images/Sklearn/ACC_{model_num}.png')"
   ]
  },
  {
   "cell_type": "code",
   "execution_count": null,
   "metadata": {},
   "outputs": [],
   "source": [
    "assert False"
   ]
  },
  {
   "cell_type": "markdown",
   "metadata": {},
   "source": [
    "### Model 2"
   ]
  },
  {
   "cell_type": "code",
   "execution_count": null,
   "metadata": {},
   "outputs": [],
   "source": [
    "model_num = '2_2'\n",
    "max_feat = 6000 \n",
    "min_df = 5\n",
    "max_df = 1.0 \n",
    "ngram = (1,2)\n",
    "pre_type = 'stem'\n",
    "\n",
    "new_df, x_train, x_test, y_train, y_test, preprocessing_dict = process.preprocess_tts(df, pre_type = pre_type, \n",
    "                                                                      ngram = ngram,  max_features = max_feat, \n",
    "                                                                             min_df = min_df, max_df = max_df)"
   ]
  },
  {
   "cell_type": "code",
   "execution_count": null,
   "metadata": {},
   "outputs": [],
   "source": [
    "models = {'Log': LogisticRegression(max_iter = 2500), 'Knn': KNeighborsClassifier(), \n",
    "          'DT': DecisionTreeClassifier(random_state = 10), 'LDA': LinearDiscriminantAnalysis(),\n",
    "          'Gaussian': GaussianNB(), \n",
    "           'LinearSVC': LinearSVC(max_iter = 2500, random_state = 10), 'SDGSVC': SGDClassifier(random_state = 10),  \n",
    "          'ADA': AdaBoostClassifier(random_state = 10), 'Bagging': BaggingClassifier(random_state = 10), \n",
    "          'Ridge': RidgeClassifier(random_state = 10), 'RF': RandomForestClassifier(random_state = 10)}\n",
    "\n",
    "new_models = func.stacked_model(models)\n",
    "stacked = new_models['Stacked']\n",
    "stacked.n_jobs = -1\n",
    "stacked.fit(x_train, y_train)\n",
    "print(f'Train Accuracy: {stacked.score(x_train, y_train)}')\n",
    "print(f'Test Accuracy: {stacked.score(x_test, y_test)}')\n",
    "\n",
    "fig, ax = plt.subplots(1,2)\n",
    "plt.suptitle(f'Model: {model_num}')\n",
    "plot_confusion_matrix(stacked, x_train, y_train, ax = ax[0], display_labels = ['Down', 'Up']) \n",
    "plot_confusion_matrix(stacked, x_test, y_test, ax = ax[1], display_labels = ['Down', 'Up']) \n",
    "ax[0].set_title('Train')\n",
    "ax[1].set_title('Test')\n",
    "plt.tight_layout() \n",
    "plt.savefig(f'Images/Sklearn/CM_{model_num}.png')"
   ]
  },
  {
   "cell_type": "code",
   "execution_count": null,
   "metadata": {},
   "outputs": [],
   "source": [
    "# getting results and model\n",
    "result_dict = func.test_models(x_train, y_train, new_models, n_jobs = 5)"
   ]
  },
  {
   "cell_type": "code",
   "execution_count": null,
   "metadata": {},
   "outputs": [],
   "source": [
    "func.plot_model_results(result_dict, filepath = f'Images/Sklearn/ACC_{model_num}.png')"
   ]
  },
  {
   "cell_type": "code",
   "execution_count": null,
   "metadata": {},
   "outputs": [],
   "source": [
    "assert False"
   ]
  },
  {
   "cell_type": "markdown",
   "metadata": {},
   "source": [
    "### Model 3"
   ]
  },
  {
   "cell_type": "code",
   "execution_count": null,
   "metadata": {},
   "outputs": [],
   "source": [
    "model_num = '3_2'\n",
    "max_feat = 5000 \n",
    "min_df = 2\n",
    "max_df = 1.0 \n",
    "ngram = (1,2)\n",
    "pre_type = 'lemmet'\n",
    "\n",
    "new_df, x_train, x_test, y_train, y_test, preprocessing_dict = process.preprocess_tts(df, pre_type = pre_type, \n",
    "                                                                      ngram = ngram,  max_features = max_feat, \n",
    "                                                                             min_df = min_df, max_df = max_df)"
   ]
  },
  {
   "cell_type": "code",
   "execution_count": null,
   "metadata": {},
   "outputs": [],
   "source": [
    "models = {'Log': LogisticRegression(max_iter = 2500), 'Knn': KNeighborsClassifier(), \n",
    "          'DT': DecisionTreeClassifier(random_state = 10), 'LDA': LinearDiscriminantAnalysis(),\n",
    "          'Gaussian': GaussianNB(), \n",
    "           'LinearSVC': LinearSVC(max_iter = 2500, random_state = 10), 'SDGSVC': SGDClassifier(random_state = 10),  \n",
    "          'ADA': AdaBoostClassifier(random_state = 10), 'Bagging': BaggingClassifier(random_state = 10), \n",
    "          'Ridge': RidgeClassifier(random_state = 10), 'RF': RandomForestClassifier(random_state = 10)}\n",
    "\n",
    "new_models = func.stacked_model(models)\n",
    "stacked = new_models['Stacked']\n",
    "stacked.n_jobs = -1\n",
    "stacked.fit(x_train, y_train)\n",
    "print(f'Train Accuracy: {stacked.score(x_train, y_train)}')\n",
    "print(f'Test Accuracy: {stacked.score(x_test, y_test)}')\n",
    "\n",
    "fig, ax = plt.subplots(1,2)\n",
    "plt.suptitle(f'Model: {model_num}')\n",
    "plot_confusion_matrix(stacked, x_train, y_train, ax = ax[0], display_labels = ['Down', 'Up']) \n",
    "plot_confusion_matrix(stacked, x_test, y_test, ax = ax[1], display_labels = ['Down', 'Up']) \n",
    "ax[0].set_title('Train')\n",
    "ax[1].set_title('Test')\n",
    "plt.tight_layout() \n",
    "plt.savefig(f'Images/Sklearn/CM_{model_num}.png')"
   ]
  },
  {
   "cell_type": "code",
   "execution_count": null,
   "metadata": {},
   "outputs": [],
   "source": [
    "# getting results and model\n",
    "result_dict = func.test_models(x_train, y_train, new_models, n_jobs = 5)"
   ]
  },
  {
   "cell_type": "code",
   "execution_count": null,
   "metadata": {},
   "outputs": [],
   "source": [
    "func.plot_model_results(result_dict, filepath = f'Images/Sklearn/ACC_{model_num}.png')"
   ]
  },
  {
   "cell_type": "code",
   "execution_count": null,
   "metadata": {},
   "outputs": [],
   "source": [
    "assert False"
   ]
  },
  {
   "cell_type": "code",
   "execution_count": null,
   "metadata": {},
   "outputs": [],
   "source": []
  }
 ],
 "metadata": {
  "kernelspec": {
   "display_name": "DemocratRepublicanNLP",
   "language": "python",
   "name": "democratrepublicannlp"
  },
  "language_info": {
   "codemirror_mode": {
    "name": "ipython",
    "version": 3
   },
   "file_extension": ".py",
   "mimetype": "text/x-python",
   "name": "python",
   "nbconvert_exporter": "python",
   "pygments_lexer": "ipython3",
   "version": "3.8.5"
  }
 },
 "nbformat": 4,
 "nbformat_minor": 2
}
