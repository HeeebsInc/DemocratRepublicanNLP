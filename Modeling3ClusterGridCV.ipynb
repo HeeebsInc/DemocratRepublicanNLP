{
 "cells": [
  {
   "cell_type": "code",
   "execution_count": 1,
   "metadata": {},
   "outputs": [],
   "source": [
    "import pandas as pd\n",
    "import numpy as np \n",
    "import pickle\n",
    "import matplotlib.pyplot as plt\n",
    "from tqdm import tqdm"
   ]
  },
  {
   "cell_type": "code",
   "execution_count": 2,
   "metadata": {},
   "outputs": [],
   "source": [
    "model_num = 3\n",
    "x_train, x_test, y_train, y_test = pickle.load(open(f'Pickles/TTS_{model_num}.p', 'rb'))\n",
    "y_train = y_train.Target.values.ravel() \n",
    "y_test = y_test.Target.values.ravel()"
   ]
  },
  {
   "cell_type": "code",
   "execution_count": 3,
   "metadata": {},
   "outputs": [
    {
     "data": {
      "text/html": [
       "<div>\n",
       "<style scoped>\n",
       "    .dataframe tbody tr th:only-of-type {\n",
       "        vertical-align: middle;\n",
       "    }\n",
       "\n",
       "    .dataframe tbody tr th {\n",
       "        vertical-align: top;\n",
       "    }\n",
       "\n",
       "    .dataframe thead th {\n",
       "        text-align: right;\n",
       "    }\n",
       "</style>\n",
       "<table border=\"1\" class=\"dataframe\">\n",
       "  <thead>\n",
       "    <tr style=\"text-align: right;\">\n",
       "      <th></th>\n",
       "      <th>Volume</th>\n",
       "      <th>DayDiff</th>\n",
       "      <th>ab</th>\n",
       "      <th>abandon</th>\n",
       "      <th>abb</th>\n",
       "      <th>abbott</th>\n",
       "      <th>abbvi</th>\n",
       "      <th>abe</th>\n",
       "      <th>aberdeen</th>\n",
       "      <th>abil</th>\n",
       "      <th>...</th>\n",
       "      <th>zeitung</th>\n",
       "      <th>zero</th>\n",
       "      <th>zetsch</th>\n",
       "      <th>zhejiang</th>\n",
       "      <th>zip</th>\n",
       "      <th>zone</th>\n",
       "      <th>zoom</th>\n",
       "      <th>zte</th>\n",
       "      <th>zuckerberg</th>\n",
       "      <th>KCluster</th>\n",
       "    </tr>\n",
       "  </thead>\n",
       "  <tbody>\n",
       "    <tr>\n",
       "      <th>0</th>\n",
       "      <td>-0.683618</td>\n",
       "      <td>0.504059</td>\n",
       "      <td>0</td>\n",
       "      <td>0</td>\n",
       "      <td>0</td>\n",
       "      <td>0</td>\n",
       "      <td>0</td>\n",
       "      <td>0</td>\n",
       "      <td>0</td>\n",
       "      <td>0</td>\n",
       "      <td>...</td>\n",
       "      <td>0</td>\n",
       "      <td>0</td>\n",
       "      <td>0</td>\n",
       "      <td>0</td>\n",
       "      <td>0</td>\n",
       "      <td>0</td>\n",
       "      <td>0</td>\n",
       "      <td>0</td>\n",
       "      <td>0</td>\n",
       "      <td>1</td>\n",
       "    </tr>\n",
       "    <tr>\n",
       "      <th>1</th>\n",
       "      <td>2.175385</td>\n",
       "      <td>3.872091</td>\n",
       "      <td>0</td>\n",
       "      <td>0</td>\n",
       "      <td>0</td>\n",
       "      <td>0</td>\n",
       "      <td>0</td>\n",
       "      <td>0</td>\n",
       "      <td>0</td>\n",
       "      <td>0</td>\n",
       "      <td>...</td>\n",
       "      <td>0</td>\n",
       "      <td>0</td>\n",
       "      <td>0</td>\n",
       "      <td>0</td>\n",
       "      <td>0</td>\n",
       "      <td>0</td>\n",
       "      <td>0</td>\n",
       "      <td>0</td>\n",
       "      <td>0</td>\n",
       "      <td>2</td>\n",
       "    </tr>\n",
       "    <tr>\n",
       "      <th>2</th>\n",
       "      <td>0.232363</td>\n",
       "      <td>-0.844652</td>\n",
       "      <td>0</td>\n",
       "      <td>0</td>\n",
       "      <td>0</td>\n",
       "      <td>0</td>\n",
       "      <td>0</td>\n",
       "      <td>0</td>\n",
       "      <td>0</td>\n",
       "      <td>0</td>\n",
       "      <td>...</td>\n",
       "      <td>0</td>\n",
       "      <td>0</td>\n",
       "      <td>0</td>\n",
       "      <td>0</td>\n",
       "      <td>0</td>\n",
       "      <td>0</td>\n",
       "      <td>0</td>\n",
       "      <td>0</td>\n",
       "      <td>0</td>\n",
       "      <td>2</td>\n",
       "    </tr>\n",
       "    <tr>\n",
       "      <th>3</th>\n",
       "      <td>-0.406931</td>\n",
       "      <td>0.106939</td>\n",
       "      <td>0</td>\n",
       "      <td>0</td>\n",
       "      <td>0</td>\n",
       "      <td>0</td>\n",
       "      <td>0</td>\n",
       "      <td>0</td>\n",
       "      <td>0</td>\n",
       "      <td>0</td>\n",
       "      <td>...</td>\n",
       "      <td>0</td>\n",
       "      <td>0</td>\n",
       "      <td>0</td>\n",
       "      <td>0</td>\n",
       "      <td>0</td>\n",
       "      <td>0</td>\n",
       "      <td>0</td>\n",
       "      <td>0</td>\n",
       "      <td>2</td>\n",
       "      <td>1</td>\n",
       "    </tr>\n",
       "    <tr>\n",
       "      <th>4</th>\n",
       "      <td>-0.629237</td>\n",
       "      <td>0.301753</td>\n",
       "      <td>0</td>\n",
       "      <td>0</td>\n",
       "      <td>0</td>\n",
       "      <td>0</td>\n",
       "      <td>0</td>\n",
       "      <td>0</td>\n",
       "      <td>0</td>\n",
       "      <td>0</td>\n",
       "      <td>...</td>\n",
       "      <td>0</td>\n",
       "      <td>0</td>\n",
       "      <td>0</td>\n",
       "      <td>0</td>\n",
       "      <td>0</td>\n",
       "      <td>0</td>\n",
       "      <td>0</td>\n",
       "      <td>0</td>\n",
       "      <td>0</td>\n",
       "      <td>1</td>\n",
       "    </tr>\n",
       "  </tbody>\n",
       "</table>\n",
       "<p>5 rows × 5003 columns</p>\n",
       "</div>"
      ],
      "text/plain": [
       "     Volume   DayDiff  ab  abandon  abb  abbott  abbvi  abe  aberdeen  abil  \\\n",
       "0 -0.683618  0.504059   0        0    0       0      0    0         0     0   \n",
       "1  2.175385  3.872091   0        0    0       0      0    0         0     0   \n",
       "2  0.232363 -0.844652   0        0    0       0      0    0         0     0   \n",
       "3 -0.406931  0.106939   0        0    0       0      0    0         0     0   \n",
       "4 -0.629237  0.301753   0        0    0       0      0    0         0     0   \n",
       "\n",
       "   ...  zeitung  zero  zetsch  zhejiang  zip  zone  zoom  zte  zuckerberg  \\\n",
       "0  ...        0     0       0         0    0     0     0    0           0   \n",
       "1  ...        0     0       0         0    0     0     0    0           0   \n",
       "2  ...        0     0       0         0    0     0     0    0           0   \n",
       "3  ...        0     0       0         0    0     0     0    0           2   \n",
       "4  ...        0     0       0         0    0     0     0    0           0   \n",
       "\n",
       "   KCluster  \n",
       "0         1  \n",
       "1         2  \n",
       "2         2  \n",
       "3         1  \n",
       "4         1  \n",
       "\n",
       "[5 rows x 5003 columns]"
      ]
     },
     "execution_count": 3,
     "metadata": {},
     "output_type": "execute_result"
    }
   ],
   "source": [
    "x_train.head()"
   ]
  },
  {
   "cell_type": "code",
   "execution_count": 4,
   "metadata": {},
   "outputs": [],
   "source": [
    "from sklearn.linear_model import SGDClassifier, RidgeClassifier, LogisticRegression \n",
    "from sklearn.neighbors import KNeighborsClassifier\n",
    "from sklearn.naive_bayes import GaussianNB, MultinomialNB\n",
    "from sklearn.svm import SVC,LinearSVC\n",
    "from sklearn.model_selection import RepeatedStratifiedKFold, cross_val_score, GridSearchCV, RandomizedSearchCV\n",
    "from sklearn.metrics import classification_report, plot_confusion_matrix, confusion_matrix\n",
    "from sklearn.tree import DecisionTreeClassifier\n",
    "from sklearn.ensemble import RandomForestClassifier, StackingClassifier, BaggingClassifier, AdaBoostClassifier\n",
    "from sklearn.discriminant_analysis import LinearDiscriminantAnalysis\n",
    "import Functions as func\n",
    "from sklearn.decomposition import PCA"
   ]
  },
  {
   "cell_type": "code",
   "execution_count": 5,
   "metadata": {},
   "outputs": [
    {
     "data": {
      "text/plain": [
       "[<matplotlib.lines.Line2D at 0x1a950057af0>]"
      ]
     },
     "execution_count": 5,
     "metadata": {},
     "output_type": "execute_result"
    },
    {
     "data": {
      "image/png": "[encoded data removed]",
      "text/plain": [
       "<Figure size 1080x360 with 1 Axes>"
      ]
     },
     "metadata": {
      "needs_background": "light"
     },
     "output_type": "display_data"
    }
   ],
   "source": [
    "from sklearn.decomposition import PCA\n",
    "\n",
    "# variances = []\n",
    "# for comp in tqdm(range(1,200)[::-1]): \n",
    "#     pca = PCA(n_components = comp, random_state =10)\n",
    "#     x_train_pca = pca.fit_transform(x_train[[i for i in x_train.columns if i != 'KCluster']])\n",
    "#     variances.append(pca.explained_variance_ratio_.max())\n",
    "\n",
    "\n",
    "pca = PCA(random_state =10)\n",
    "pca.fit(x_train[[i for i in x_train.columns if i != 'KCluster']])\n",
    "plt.figure(figsize = (15,5))\n",
    "plt.plot(np.cumsum(pca.explained_variance_ratio_), 'bx-')"
   ]
  },
  {
   "cell_type": "code",
   "execution_count": 6,
   "metadata": {},
   "outputs": [],
   "source": [
    "pca = PCA(random_state = 10, n_components = 450)\n",
    "pca.fit(x_train[[i for i in x_train.columns if i != 'KCluster']])\n",
    "x_train_new = pca.transform(x_train[[i for i in x_train.columns if i != 'KCluster']])\n",
    "x_test_new = pca.transform(x_test[[i for i in x_test.columns if i != 'KCluster']])"
   ]
  },
  {
   "cell_type": "code",
   "execution_count": 10,
   "metadata": {},
   "outputs": [
    {
     "name": "stderr",
     "output_type": "stream",
     "text": [
      "F:\\ProgramFiles\\conda\\envs\\DemocratRepublicanNLP\\lib\\site-packages\\sklearn\\svm\\_base.py:976: ConvergenceWarning: Liblinear failed to converge, increase the number of iterations.\n",
      "  warnings.warn(\"Liblinear failed to converge, increase \"\n",
      "F:\\ProgramFiles\\conda\\envs\\DemocratRepublicanNLP\\lib\\site-packages\\sklearn\\svm\\_base.py:976: ConvergenceWarning: Liblinear failed to converge, increase the number of iterations.\n",
      "  warnings.warn(\"Liblinear failed to converge, increase \"\n"
     ]
    },
    {
     "name": "stdout",
     "output_type": "stream",
     "text": [
      "Stacked Train: 0.9977876106194691\n",
      "Stacked Test: 0.6237113402061856\n",
      "~~~~~~~~~~~~~~~~~~~~~~~~~~~~~~~~~~~~~~~~~~~~~~~~~~~~~~~~~\n",
      "Bagging Train: 0.9601769911504425\n",
      "Bagging Test: 0.5618556701030928\n",
      "~~~~~~~~~~~~~~~~~~~~~~~~~~~~~~~~~~~~~~~~~~~~~~~~~~~~~~~~~\n",
      "RF Train: 1.0\n",
      "RF Test: 0.5567010309278351\n",
      "~~~~~~~~~~~~~~~~~~~~~~~~~~~~~~~~~~~~~~~~~~~~~~~~~~~~~~~~~\n",
      "ADA Train: 0.9800884955752213\n",
      "ADA Test: 0.5927835051546392\n",
      "~~~~~~~~~~~~~~~~~~~~~~~~~~~~~~~~~~~~~~~~~~~~~~~~~~~~~~~~~\n",
      "DT Train: 1.0\n",
      "DT Test: 0.5567010309278351\n",
      "~~~~~~~~~~~~~~~~~~~~~~~~~~~~~~~~~~~~~~~~~~~~~~~~~~~~~~~~~\n"
     ]
    }
   ],
   "source": [
    "models = {'Log': LogisticRegression(max_iter = 3000), 'Knn': KNeighborsClassifier(), 'DT': DecisionTreeClassifier(random_state = 10), \n",
    "          'Gaussian': GaussianNB(), 'LDA': LinearDiscriminantAnalysis(),\n",
    "          'LinearSVC': LinearSVC(max_iter = 2500, random_state = 10), 'SDGSVC': SGDClassifier(random_state = 10),  \n",
    "          'ADA': AdaBoostClassifier(random_state = 10), 'Bagging': BaggingClassifier(random_state = 10), \n",
    "          'Ridge': RidgeClassifier(random_state = 10), 'RF': RandomForestClassifier(random_state = 10)}\n",
    "new_models = func.stacked_model(models)\n",
    "stacked = new_models['Stacked']\n",
    "\n",
    "stacked.fit(x_train_new, y_train)\n",
    "print(f'Stacked Train: {stacked.score(x_train_new , y_train)}')\n",
    "print(f'Stacked Test: {stacked.score(x_test_new , y_test)}')\n",
    "print('~~~~~~~~~~~~~~~~~~~~~~~~~~~~~~~~~~~~~~~~~~~~~~~~~~~~~~~~~')\n",
    "bagging = new_models['Bagging'].fit(x_train_new, y_train)\n",
    "print(f'Bagging Train: {bagging.score(x_train_new , y_train)}')\n",
    "print(f'Bagging Test: {bagging.score(x_test_new , y_test)}')\n",
    "print('~~~~~~~~~~~~~~~~~~~~~~~~~~~~~~~~~~~~~~~~~~~~~~~~~~~~~~~~~')\n",
    "\n",
    "rf = new_models['RF'].fit(x_train_new, y_train)\n",
    "print(f'RF Train: {rf.score(x_train_new , y_train)}')\n",
    "print(f'RF Test: {rf.score(x_test_new , y_test)}')\n",
    "print('~~~~~~~~~~~~~~~~~~~~~~~~~~~~~~~~~~~~~~~~~~~~~~~~~~~~~~~~~')\n",
    "\n",
    "\n",
    "ADA = new_models['ADA'].fit(x_train_new, y_train)\n",
    "print(f'ADA Train: {ADA.score(x_train_new , y_train )}')\n",
    "print(f'ADA Test: {ADA.score(x_test_new , y_test)}')\n",
    "print('~~~~~~~~~~~~~~~~~~~~~~~~~~~~~~~~~~~~~~~~~~~~~~~~~~~~~~~~~')\n",
    "\n",
    "dt = new_models['DT'].fit(x_train_new, y_train)\n",
    "print(f'DT Train: {dt.score(x_train_new, y_train)}')\n",
    "print(f'DT Test: {dt.score(x_test_new, y_test)}')\n",
    "print('~~~~~~~~~~~~~~~~~~~~~~~~~~~~~~~~~~~~~~~~~~~~~~~~~~~~~~~~~')"
   ]
  },
  {
   "cell_type": "code",
   "execution_count": null,
   "metadata": {},
   "outputs": [],
   "source": [
    "assert False"
   ]
  },
  {
   "cell_type": "markdown",
   "metadata": {},
   "source": [
    "## Sklearn Modeling"
   ]
  },
  {
   "cell_type": "code",
   "execution_count": null,
   "metadata": {},
   "outputs": [],
   "source": [
    "model_version = 'Stacked_3'"
   ]
  },
  {
   "cell_type": "markdown",
   "metadata": {},
   "source": [
    "### Model 1"
   ]
  },
  {
   "cell_type": "code",
   "execution_count": 11,
   "metadata": {},
   "outputs": [
    {
     "name": "stdout",
     "output_type": "stream",
     "text": [
      "Stacked Train: 0.9911504424778761\n",
      "Stacked Test: 0.7422680412371134\n",
      "~~~~~~~~~~~~~~~~~~~~~~~~~~~~~~~~~~~~~~~~~~~~~~~~~~~~~~~~~\n",
      "Bagging Train: 0.9734513274336283\n",
      "Bagging Test: 0.7422680412371134\n",
      "~~~~~~~~~~~~~~~~~~~~~~~~~~~~~~~~~~~~~~~~~~~~~~~~~~~~~~~~~\n",
      "RF Train: 1.0\n",
      "RF Test: 0.6701030927835051\n",
      "~~~~~~~~~~~~~~~~~~~~~~~~~~~~~~~~~~~~~~~~~~~~~~~~~~~~~~~~~\n",
      "ADA Train: 0.9867256637168141\n",
      "ADA Test: 0.7371134020618557\n",
      "~~~~~~~~~~~~~~~~~~~~~~~~~~~~~~~~~~~~~~~~~~~~~~~~~~~~~~~~~\n",
      "DT Train: 1.0\n",
      "DT Test: 0.711340206185567\n",
      "~~~~~~~~~~~~~~~~~~~~~~~~~~~~~~~~~~~~~~~~~~~~~~~~~~~~~~~~~\n"
     ]
    }
   ],
   "source": [
    "models = {'Log': LogisticRegression(max_iter = 2500), 'Knn': KNeighborsClassifier(), 'DT': DecisionTreeClassifier(random_state = 10), \n",
    "          'Gaussian': GaussianNB(), 'LDA': LinearDiscriminantAnalysis(),\n",
    "          'LinearSVC': LinearSVC(max_iter = 2500, random_state = 10), 'SDGSVC': SGDClassifier(random_state = 10),  \n",
    "          'ADA': AdaBoostClassifier(random_state = 10), 'Bagging': BaggingClassifier(random_state = 10), \n",
    "          'Ridge': RidgeClassifier(random_state = 10), 'RF': RandomForestClassifier(random_state = 10)}\n",
    "new_models = func.stacked_model(models)\n",
    "stacked = new_models['Stacked']\n",
    "\n",
    "stacked.fit(x_train, y_train)\n",
    "print(f'Stacked Train: {stacked.score(x_train, y_train)}')\n",
    "print(f'Stacked Test: {stacked.score(x_test, y_test)}')\n",
    "print('~~~~~~~~~~~~~~~~~~~~~~~~~~~~~~~~~~~~~~~~~~~~~~~~~~~~~~~~~')\n",
    "\n",
    "\n",
    "bagging = new_models['Bagging'].fit(x_train, y_train)\n",
    "print(f'Bagging Train: {bagging.score(x_train , y_train)}')\n",
    "print(f'Bagging Test: {bagging.score(x_test , y_test)}')\n",
    "print('~~~~~~~~~~~~~~~~~~~~~~~~~~~~~~~~~~~~~~~~~~~~~~~~~~~~~~~~~')\n",
    "\n",
    "rf = new_models['RF'].fit(x_train, y_train)\n",
    "print(f'RF Train: {rf.score(x_train , y_train)}')\n",
    "print(f'RF Test: {rf.score(x_test , y_test)}')\n",
    "print('~~~~~~~~~~~~~~~~~~~~~~~~~~~~~~~~~~~~~~~~~~~~~~~~~~~~~~~~~')\n",
    "\n",
    "\n",
    "ADA = new_models['ADA'].fit(x_train, y_train)\n",
    "print(f'ADA Train: {ADA.score(x_train, y_train )}')\n",
    "print(f'ADA Test: {ADA.score(x_test, y_test)}')\n",
    "print('~~~~~~~~~~~~~~~~~~~~~~~~~~~~~~~~~~~~~~~~~~~~~~~~~~~~~~~~~')\n",
    "\n",
    "dt = new_models['DT'].fit(x_train, y_train)\n",
    "print(f'DT Train: {dt.score(x_train, y_train)}')\n",
    "print(f'DT Test: {dt.score(x_test, y_test)}')\n",
    "print('~~~~~~~~~~~~~~~~~~~~~~~~~~~~~~~~~~~~~~~~~~~~~~~~~~~~~~~~~')\n"
   ]
  },
  {
   "cell_type": "code",
   "execution_count": 13,
   "metadata": {},
   "outputs": [
    {
     "name": "stdout",
     "output_type": "stream",
     "text": [
      "Fitting 4 folds for each of 34992 candidates, totalling 139968 fits\n"
     ]
    },
    {
     "name": "stderr",
     "output_type": "stream",
     "text": [
      "[Parallel(n_jobs=12)]: Using backend LokyBackend with 12 concurrent workers.\n",
      "[Parallel(n_jobs=12)]: Done  26 tasks      | elapsed:    3.2s\n",
      "[Parallel(n_jobs=12)]: Done 176 tasks      | elapsed:   10.9s\n",
      "[Parallel(n_jobs=12)]: Done 426 tasks      | elapsed:   23.6s\n",
      "[Parallel(n_jobs=12)]: Done 776 tasks      | elapsed:   39.3s\n",
      "[Parallel(n_jobs=12)]: Done 1226 tasks      | elapsed:   59.1s\n",
      "[Parallel(n_jobs=12)]: Done 1776 tasks      | elapsed:  1.4min\n",
      "[Parallel(n_jobs=12)]: Done 2426 tasks      | elapsed:  1.9min\n",
      "[Parallel(n_jobs=12)]: Done 3176 tasks      | elapsed:  2.4min\n",
      "[Parallel(n_jobs=12)]: Done 4026 tasks      | elapsed:  3.1min\n",
      "[Parallel(n_jobs=12)]: Done 4976 tasks      | elapsed:  3.8min\n",
      "[Parallel(n_jobs=12)]: Done 6026 tasks      | elapsed:  4.6min\n",
      "[Parallel(n_jobs=12)]: Done 7176 tasks      | elapsed:  5.6min\n",
      "[Parallel(n_jobs=12)]: Done 8426 tasks      | elapsed:  6.5min\n",
      "[Parallel(n_jobs=12)]: Done 9776 tasks      | elapsed:  7.5min\n",
      "[Parallel(n_jobs=12)]: Done 11226 tasks      | elapsed:  8.6min\n",
      "[Parallel(n_jobs=12)]: Done 12776 tasks      | elapsed:  9.8min\n",
      "[Parallel(n_jobs=12)]: Done 14426 tasks      | elapsed: 11.1min\n",
      "[Parallel(n_jobs=12)]: Done 16176 tasks      | elapsed: 12.7min\n",
      "[Parallel(n_jobs=12)]: Done 18026 tasks      | elapsed: 14.2min\n",
      "[Parallel(n_jobs=12)]: Done 19976 tasks      | elapsed: 15.8min\n",
      "[Parallel(n_jobs=12)]: Done 22026 tasks      | elapsed: 17.6min\n",
      "[Parallel(n_jobs=12)]: Done 24176 tasks      | elapsed: 19.3min\n",
      "[Parallel(n_jobs=12)]: Done 26426 tasks      | elapsed: 21.0min\n",
      "[Parallel(n_jobs=12)]: Done 28776 tasks      | elapsed: 22.9min\n",
      "[Parallel(n_jobs=12)]: Done 31226 tasks      | elapsed: 24.8min\n",
      "[Parallel(n_jobs=12)]: Done 33776 tasks      | elapsed: 26.8min\n",
      "[Parallel(n_jobs=12)]: Done 36426 tasks      | elapsed: 28.9min\n",
      "[Parallel(n_jobs=12)]: Done 39176 tasks      | elapsed: 31.1min\n",
      "[Parallel(n_jobs=12)]: Done 42026 tasks      | elapsed: 33.4min\n",
      "[Parallel(n_jobs=12)]: Done 44976 tasks      | elapsed: 36.0min\n",
      "[Parallel(n_jobs=12)]: Done 48026 tasks      | elapsed: 38.5min\n",
      "[Parallel(n_jobs=12)]: Done 51176 tasks      | elapsed: 41.0min\n",
      "[Parallel(n_jobs=12)]: Done 54426 tasks      | elapsed: 43.5min\n",
      "[Parallel(n_jobs=12)]: Done 57776 tasks      | elapsed: 46.2min\n",
      "[Parallel(n_jobs=12)]: Done 61226 tasks      | elapsed: 48.9min\n",
      "[Parallel(n_jobs=12)]: Done 64776 tasks      | elapsed: 51.9min\n",
      "[Parallel(n_jobs=12)]: Done 68426 tasks      | elapsed: 55.0min\n",
      "[Parallel(n_jobs=12)]: Done 72176 tasks      | elapsed: 58.3min\n",
      "[Parallel(n_jobs=12)]: Done 76026 tasks      | elapsed: 61.7min\n",
      "[Parallel(n_jobs=12)]: Done 79976 tasks      | elapsed: 65.2min\n",
      "[Parallel(n_jobs=12)]: Done 84026 tasks      | elapsed: 69.0min\n",
      "[Parallel(n_jobs=12)]: Done 88176 tasks      | elapsed: 72.8min\n",
      "[Parallel(n_jobs=12)]: Done 92426 tasks      | elapsed: 76.7min\n",
      "[Parallel(n_jobs=12)]: Done 96776 tasks      | elapsed: 80.6min\n",
      "[Parallel(n_jobs=12)]: Done 101226 tasks      | elapsed: 84.6min\n",
      "[Parallel(n_jobs=12)]: Done 105776 tasks      | elapsed: 88.8min\n",
      "[Parallel(n_jobs=12)]: Done 110426 tasks      | elapsed: 93.2min\n",
      "[Parallel(n_jobs=12)]: Done 115176 tasks      | elapsed: 97.7min\n",
      "[Parallel(n_jobs=12)]: Done 120026 tasks      | elapsed: 102.0min\n",
      "[Parallel(n_jobs=12)]: Done 124976 tasks      | elapsed: 106.6min\n",
      "[Parallel(n_jobs=12)]: Done 130026 tasks      | elapsed: 111.2min\n",
      "[Parallel(n_jobs=12)]: Done 135176 tasks      | elapsed: 115.9min\n",
      "[Parallel(n_jobs=12)]: Done 139968 out of 139968 | elapsed: 120.4min finished\n"
     ]
    },
    {
     "data": {
      "text/plain": [
       "GridSearchCV(cv=4, estimator=RandomForestClassifier(random_state=10), n_jobs=12,\n",
       "             param_grid={'bootstrap': [True, False],\n",
       "                         'ccp_alpha': [0.0, 0.5, 1.0],\n",
       "                         'class_weight': [None, 'balanced',\n",
       "                                          'balanced_subsample'],\n",
       "                         'criterion': ['gini', 'entropy'],\n",
       "                         'max_depth': [None, 100, 200, 500],\n",
       "                         'max_features': ['auto', 'sqrt', 'log2'],\n",
       "                         'max_leaf_nodes': [None, 100, 200],\n",
       "                         'min_samples_leaf': [1, 2, 5],\n",
       "                         'min_samples_split': [2, 3, 5],\n",
       "                         'n_estimators': [50, 100, 150]},\n",
       "             verbose=1)"
      ]
     },
     "execution_count": 13,
     "metadata": {},
     "output_type": "execute_result"
    }
   ],
   "source": [
    "param_grid = {\n",
    "    'n_estimators': [50, 100, 150], \n",
    "    'criterion': ['gini', 'entropy'],\n",
    "    'max_depth': [None, 100, 200, 500],\n",
    "    'min_samples_split': [2, 3, 5], \n",
    "    'min_samples_leaf': [1,2,5],\n",
    "    'max_features': ['auto', 'sqrt', 'log2'],\n",
    "    'max_leaf_nodes': [None, 100, 200],\n",
    "    'bootstrap': [True, False], \n",
    "    'class_weight': [None, 'balanced', 'balanced_subsample'],\n",
    "    'ccp_alpha': [0.0, .5, 1.0]  \n",
    "}\n",
    "\n",
    "\n",
    "rf_cv_reg = GridSearchCV(RandomForestClassifier(random_state = 10), param_grid, n_jobs = 12, verbose = 1, cv = 4)\n",
    "\n",
    "rf_cv_reg.fit(x_train, y_train)"
   ]
  },
  {
   "cell_type": "code",
   "execution_count": 14,
   "metadata": {},
   "outputs": [
    {
     "name": "stdout",
     "output_type": "stream",
     "text": [
      "Train: 0.9977876106194691\n",
      "Test: 0.6597938144329897\n"
     ]
    }
   ],
   "source": [
    "print(f'RFREG GS Train: {rf_cv_reg.best_estimator_.score(x_train, y_train)}')\n",
    "print(f'RFREG GS Test: {rf_cv_reg.best_estimator_.score(x_test, y_test)}')"
   ]
  },
  {
   "cell_type": "code",
   "execution_count": 15,
   "metadata": {},
   "outputs": [
    {
     "name": "stdout",
     "output_type": "stream",
     "text": [
      "Fitting 4 folds for each of 34992 candidates, totalling 139968 fits\n"
     ]
    },
    {
     "name": "stderr",
     "output_type": "stream",
     "text": [
      "[Parallel(n_jobs=12)]: Using backend LokyBackend with 12 concurrent workers.\n",
      "[Parallel(n_jobs=12)]: Done  26 tasks      | elapsed:    1.1s\n",
      "[Parallel(n_jobs=12)]: Done 176 tasks      | elapsed:    6.5s\n",
      "[Parallel(n_jobs=12)]: Done 426 tasks      | elapsed:   15.5s\n",
      "[Parallel(n_jobs=12)]: Done 776 tasks      | elapsed:   26.6s\n",
      "[Parallel(n_jobs=12)]: Done 1226 tasks      | elapsed:   40.8s\n",
      "[Parallel(n_jobs=12)]: Done 1776 tasks      | elapsed:   58.7s\n",
      "[Parallel(n_jobs=12)]: Done 2426 tasks      | elapsed:  1.3min\n",
      "[Parallel(n_jobs=12)]: Done 3176 tasks      | elapsed:  1.7min\n",
      "[Parallel(n_jobs=12)]: Done 4026 tasks      | elapsed:  2.2min\n",
      "[Parallel(n_jobs=12)]: Done 4976 tasks      | elapsed:  3.0min\n",
      "[Parallel(n_jobs=12)]: Done 6026 tasks      | elapsed:  3.8min\n",
      "[Parallel(n_jobs=12)]: Done 7176 tasks      | elapsed:  4.8min\n",
      "[Parallel(n_jobs=12)]: Done 8426 tasks      | elapsed:  5.6min\n",
      "[Parallel(n_jobs=12)]: Done 9776 tasks      | elapsed:  6.3min\n",
      "[Parallel(n_jobs=12)]: Done 11226 tasks      | elapsed:  7.1min\n",
      "[Parallel(n_jobs=12)]: Done 12776 tasks      | elapsed:  8.2min\n",
      "[Parallel(n_jobs=12)]: Done 14426 tasks      | elapsed:  9.6min\n",
      "[Parallel(n_jobs=12)]: Done 16176 tasks      | elapsed: 10.9min\n",
      "[Parallel(n_jobs=12)]: Done 18026 tasks      | elapsed: 12.0min\n",
      "[Parallel(n_jobs=12)]: Done 19976 tasks      | elapsed: 13.3min\n",
      "[Parallel(n_jobs=12)]: Done 22026 tasks      | elapsed: 15.1min\n",
      "[Parallel(n_jobs=12)]: Done 24176 tasks      | elapsed: 16.7min\n",
      "[Parallel(n_jobs=12)]: Done 26426 tasks      | elapsed: 17.9min\n",
      "[Parallel(n_jobs=12)]: Done 28776 tasks      | elapsed: 19.7min\n",
      "[Parallel(n_jobs=12)]: Done 31226 tasks      | elapsed: 21.6min\n",
      "[Parallel(n_jobs=12)]: Done 33776 tasks      | elapsed: 23.0min\n",
      "[Parallel(n_jobs=12)]: Done 36426 tasks      | elapsed: 24.9min\n",
      "[Parallel(n_jobs=12)]: Done 39176 tasks      | elapsed: 27.1min\n",
      "[Parallel(n_jobs=12)]: Done 42026 tasks      | elapsed: 28.9min\n",
      "[Parallel(n_jobs=12)]: Done 44976 tasks      | elapsed: 31.3min\n",
      "[Parallel(n_jobs=12)]: Done 48026 tasks      | elapsed: 33.6min\n",
      "[Parallel(n_jobs=12)]: Done 51176 tasks      | elapsed: 35.6min\n",
      "[Parallel(n_jobs=12)]: Done 54426 tasks      | elapsed: 38.1min\n",
      "[Parallel(n_jobs=12)]: Done 57776 tasks      | elapsed: 40.0min\n",
      "[Parallel(n_jobs=12)]: Done 61226 tasks      | elapsed: 42.7min\n",
      "[Parallel(n_jobs=12)]: Done 64776 tasks      | elapsed: 45.1min\n",
      "[Parallel(n_jobs=12)]: Done 68426 tasks      | elapsed: 47.9min\n",
      "[Parallel(n_jobs=12)]: Done 72176 tasks      | elapsed: 50.8min\n",
      "[Parallel(n_jobs=12)]: Done 76026 tasks      | elapsed: 54.8min\n",
      "[Parallel(n_jobs=12)]: Done 79976 tasks      | elapsed: 58.5min\n",
      "[Parallel(n_jobs=12)]: Done 84026 tasks      | elapsed: 63.0min\n",
      "[Parallel(n_jobs=12)]: Done 88176 tasks      | elapsed: 66.9min\n",
      "[Parallel(n_jobs=12)]: Done 92426 tasks      | elapsed: 71.8min\n",
      "[Parallel(n_jobs=12)]: Done 96776 tasks      | elapsed: 75.4min\n",
      "[Parallel(n_jobs=12)]: Done 101226 tasks      | elapsed: 80.8min\n",
      "[Parallel(n_jobs=12)]: Done 105776 tasks      | elapsed: 84.7min\n",
      "[Parallel(n_jobs=12)]: Done 110426 tasks      | elapsed: 90.0min\n",
      "[Parallel(n_jobs=12)]: Done 115176 tasks      | elapsed: 95.0min\n",
      "[Parallel(n_jobs=12)]: Done 120026 tasks      | elapsed: 99.4min\n",
      "[Parallel(n_jobs=12)]: Done 124976 tasks      | elapsed: 105.2min\n",
      "[Parallel(n_jobs=12)]: Done 130026 tasks      | elapsed: 110.0min\n",
      "[Parallel(n_jobs=12)]: Done 135176 tasks      | elapsed: 115.0min\n",
      "[Parallel(n_jobs=12)]: Done 139968 out of 139968 | elapsed: 120.9min finished\n"
     ]
    },
    {
     "data": {
      "text/plain": [
       "GridSearchCV(cv=4, estimator=RandomForestClassifier(random_state=10), n_jobs=12,\n",
       "             param_grid={'bootstrap': [True, False],\n",
       "                         'ccp_alpha': [0.0, 0.5, 1.0],\n",
       "                         'class_weight': [None, 'balanced',\n",
       "                                          'balanced_subsample'],\n",
       "                         'criterion': ['gini', 'entropy'],\n",
       "                         'max_depth': [None, 100, 200, 500],\n",
       "                         'max_features': ['auto', 'sqrt', 'log2'],\n",
       "                         'max_leaf_nodes': [None, 100, 200],\n",
       "                         'min_samples_leaf': [1, 2, 5],\n",
       "                         'min_samples_split': [2, 3, 5],\n",
       "                         'n_estimators': [50, 100, 150]},\n",
       "             verbose=1)"
      ]
     },
     "execution_count": 15,
     "metadata": {},
     "output_type": "execute_result"
    }
   ],
   "source": [
    "param_grid = {\n",
    "    'n_estimators': [50, 100, 150], \n",
    "    'criterion': ['gini', 'entropy'],\n",
    "    'max_depth': [None, 100, 200, 500],\n",
    "    'min_samples_split': [2, 3, 5], \n",
    "    'min_samples_leaf': [1,2,5],\n",
    "    'max_features': ['auto', 'sqrt', 'log2'],\n",
    "    'max_leaf_nodes': [None, 100, 200],\n",
    "    'bootstrap': [True, False], \n",
    "    'class_weight': [None, 'balanced', 'balanced_subsample'],\n",
    "    'ccp_alpha': [0.0, .5, 1.0]  \n",
    "}\n",
    "\n",
    "\n",
    "rf_cv_pca = GridSearchCV(RandomForestClassifier(random_state = 10), param_grid, n_jobs = 12, verbose = 1, cv = 4)\n",
    "\n",
    "rf_cv_pca.fit(x_train_new, y_train)"
   ]
  },
  {
   "cell_type": "code",
   "execution_count": 17,
   "metadata": {},
   "outputs": [
    {
     "name": "stdout",
     "output_type": "stream",
     "text": [
      "RFPCA GS Train: 1.0\n",
      "RFPCA GS Test: 0.5927835051546392\n"
     ]
    }
   ],
   "source": [
    "print(f'RFPCA GS Train: {rf_cv_pca.best_estimator_.score(x_train_new, y_train)}')\n",
    "print(f'RFPCA GS Test: {rf_cv_pca.best_estimator_.score(x_test_new, y_test)}')"
   ]
  },
  {
   "cell_type": "code",
   "execution_count": 19,
   "metadata": {},
   "outputs": [],
   "source": [
    "grid_dict = {'rf_pca': rf_cv_pca, 'rf_reg': rf_cv_reg}\n",
    "pickle.dump(grid_dict, open('Pickles/GridSearch.p', 'wb'), protocol = 4)"
   ]
  },
  {
   "cell_type": "code",
   "execution_count": null,
   "metadata": {},
   "outputs": [],
   "source": [
    "%%javascript\n",
    "IPython.notebook.save_notebook()"
   ]
  },
  {
   "cell_type": "code",
   "execution_count": null,
   "metadata": {},
   "outputs": [],
   "source": [
    "import os\n",
    "os.system(r'%windir%\\system32\\rundll32.exe powrprof.dll,SetSuspendState Hibernate')"
   ]
  },
  {
   "cell_type": "code",
   "execution_count": null,
   "metadata": {},
   "outputs": [],
   "source": []
  },
  {
   "cell_type": "code",
   "execution_count": null,
   "metadata": {},
   "outputs": [],
   "source": []
  },
  {
   "cell_type": "code",
   "execution_count": null,
   "metadata": {},
   "outputs": [],
   "source": []
  },
  {
   "cell_type": "code",
   "execution_count": null,
   "metadata": {},
   "outputs": [],
   "source": []
  },
  {
   "cell_type": "code",
   "execution_count": null,
   "metadata": {},
   "outputs": [],
   "source": [
    "assert False"
   ]
  },
  {
   "cell_type": "code",
   "execution_count": null,
   "metadata": {},
   "outputs": [],
   "source": [
    "# getting results and model\n",
    "result_dict = func.test_models(x_train, y_train, new_models, n_jobs = 12)\n",
    "func.plot_model_results(result_dict, filepath = f'Images/Sklearn/{model_version}_1.png')"
   ]
  },
  {
   "cell_type": "markdown",
   "metadata": {},
   "source": [
    "### Model 2"
   ]
  },
  {
   "cell_type": "code",
   "execution_count": null,
   "metadata": {},
   "outputs": [],
   "source": [
    "models = {'Log': LogisticRegression(max_iter = 2500), 'DT': DecisionTreeClassifier(random_state = 10), \n",
    "          'Gaussian': GaussianNB(), 'LDA': LinearDiscriminantAnalysis(),\n",
    "          'LinearSVC': LinearSVC(max_iter = 2500, random_state = 10), 'SDGSVC': SGDClassifier(random_state = 10),  \n",
    "          'ADA': AdaBoostClassifier(random_state = 10), 'Bagging': BaggingClassifier(random_state = 10), \n",
    "          'Ridge': RidgeClassifier(random_state = 10), 'RF': RandomForestClassifier(random_state = 10)}\n",
    "#create stacked model\n",
    "new_models = func.stacked_model(models)\n",
    "stacked = new_models['Stacked']\n",
    "stacked.fit(x_train, y_train)\n",
    "stacked.score(x_test, y_test)"
   ]
  },
  {
   "cell_type": "code",
   "execution_count": null,
   "metadata": {},
   "outputs": [],
   "source": [
    "# getting results and model\n",
    "result_dict = func.test_models(x_train, y_train, new_models, n_jobs = 12)\n",
    "func.plot_model_results(result_dict, filepath = f'Images/Sklearn/{model_version}_2.png')"
   ]
  },
  {
   "cell_type": "markdown",
   "metadata": {},
   "source": [
    "### Model 3"
   ]
  },
  {
   "cell_type": "code",
   "execution_count": null,
   "metadata": {},
   "outputs": [],
   "source": [
    "models = {'DT': DecisionTreeClassifier(random_state = 10),  \n",
    "          'ADA': AdaBoostClassifier(random_state = 10), 'Bagging': BaggingClassifier(random_state = 10), \n",
    "          'RF': RandomForestClassifier(random_state = 10)}\n",
    "\n",
    "#create stacked model\n",
    "new_models = func.stacked_model(models)\n",
    "\n",
    "stacked = new_models['Stacked']\n",
    "\n",
    "stacked.fit(x_train, y_train)\n",
    "stacked.score(x_test, y_test)"
   ]
  },
  {
   "cell_type": "code",
   "execution_count": null,
   "metadata": {},
   "outputs": [],
   "source": [
    "# getting results and model\n",
    "result_dict = func.test_models(x_train, y_train, new_models, n_jobs = 12)\n",
    "func.plot_model_results(result_dict, filepath = f'Images/Sklearn/{model_version}_3.png')"
   ]
  },
  {
   "cell_type": "code",
   "execution_count": null,
   "metadata": {},
   "outputs": [],
   "source": [
    "assert False"
   ]
  },
  {
   "cell_type": "markdown",
   "metadata": {},
   "source": [
    "## Keras"
   ]
  },
  {
   "cell_type": "code",
   "execution_count": null,
   "metadata": {},
   "outputs": [],
   "source": [
    "from keras.models import Sequential \n",
    "from keras.layers import Dense\n",
    "from keras.callbacks import ModelCheckpoint, EarlyStopping, ReduceLROnPlateau"
   ]
  },
  {
   "cell_type": "code",
   "execution_count": null,
   "metadata": {},
   "outputs": [],
   "source": [
    "def get_nn_model(dim, act): \n",
    "    \n",
    "    model = Sequential() \n",
    "    model.add(Dense(256, activation = act, input_dim = dim[1], name = 'Input'))\n",
    "    model.add(Dense(128, activation = act))\n",
    "    model.add(Dense(64, activation = act))\n",
    "    model.add(Dense(32, activation = act))\n",
    "    model.add(Dense(8, activation = act))\n",
    "\n",
    "\n",
    "\n",
    "    \n",
    "    model.add(Dense(1, activation = 'sigmoid', name = 'Output'))\n",
    "    model.compile(loss = 'binary_crossentropy', optimizer = 'adam', metrics = ['accuracy'])\n",
    "    \n",
    "    return model"
   ]
  },
  {
   "cell_type": "code",
   "execution_count": null,
   "metadata": {},
   "outputs": [],
   "source": [
    "early_stopping = EarlyStopping(monitor='val_acc', verbose = 1, patience=10, min_delta = .00075)\n",
    "model_checkpoint = ModelCheckpoint(f'ModelWeights/VanillaNN.h5', verbose = 1, save_best_only=True,\n",
    "                                  monitor = 'val_acc')\n",
    "lr_plat = ReduceLROnPlateau(patience = 5, mode = 'min')\n",
    "\n",
    "\n",
    "dim = (1, x_train.shape[1], 1)\n",
    "epochs = 1000 \n",
    "cb = [early_stopping, model_checkpoint, lr_plat]\n",
    "bs = 32\n",
    "\n",
    "\n",
    "\n",
    "nn_model = get_nn_model(dim, 'relu')\n",
    "nn_model.fit(x_train, y_train, epochs = epochs, batch_size = bs, validation_data = (x_test, y_test), callbacks = cb)"
   ]
  },
  {
   "cell_type": "code",
   "execution_count": null,
   "metadata": {},
   "outputs": [],
   "source": []
  }
 ],
 "metadata": {
  "kernelspec": {
   "display_name": "DemocratRepublicanNLP",
   "language": "python",
   "name": "democratrepublicannlp"
  },
  "language_info": {
   "codemirror_mode": {
    "name": "ipython",
    "version": 3
   },
   "file_extension": ".py",
   "mimetype": "text/x-python",
   "name": "python",
   "nbconvert_exporter": "python",
   "pygments_lexer": "ipython3",
   "version": "3.8.5"
  }
 },
 "nbformat": 4,
 "nbformat_minor": 2
}
