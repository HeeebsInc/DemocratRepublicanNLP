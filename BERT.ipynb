{
 "cells": [
  {
   "cell_type": "code",
   "execution_count": null,
   "metadata": {},
   "outputs": [],
   "source": [
    "import pandas as pd\n",
    "import numpy as np \n",
    "import keras\n",
    "from keras_bert import get_base_dict, get_model, compile_model, gen_batch_inputs\n",
    "from PyFiles import Functions as func\n",
    "from PyFiles import Preprocessing as process"
   ]
  },
  {
   "cell_type": "code",
   "execution_count": null,
   "metadata": {},
   "outputs": [],
   "source": [
    "ticker = 'SPY'\n",
    "\n",
    "df, df_dict = process.combine_headlines(ticker)"
   ]
  },
  {
   "cell_type": "code",
   "execution_count": null,
   "metadata": {},
   "outputs": [],
   "source": [
    "max_feat = 10000 \n",
    "min_df = 20\n",
    "max_df = 1.0 \n",
    "ngram = (1,2)\n",
    "pre_type = 'stem'\n",
    "vect_type = 'tfidf'\n",
    "\n",
    "new_df, x_train, x_test, y_train, y_test, preprocessing_dict = process.preprocess_tts(df, pre_type = pre_type, ngram = ngram, \n",
    "                                                                              max_features = max_feat, \n",
    "                                                                             min_df = min_df, max_df =max_df, \n",
    "                                                                              vect_type = vect_type)"
   ]
  },
  {
   "cell_type": "code",
   "execution_count": null,
   "metadata": {},
   "outputs": [],
   "source": [
    "new_df.head(5)"
   ]
  },
  {
   "cell_type": "code",
   "execution_count": null,
   "metadata": {},
   "outputs": [],
   "source": [
    "sentence_pairs = new_df.Headlines.map(lambda x: x.split(' ')).tolist()"
   ]
  },
  {
   "cell_type": "markdown",
   "metadata": {},
   "source": [
    "[TUTORIAL](https://pypi.org/project/keras-bert/#Train-&-Use)\n",
    "\n",
    "[BETTER TUTORIAL](https://stackabuse.com/text-classification-with-bert-tokenizer-and-tf-2-0-in-python/)"
   ]
  },
  {
   "cell_type": "code",
   "execution_count": null,
   "metadata": {},
   "outputs": [],
   "source": [
    "# Build token dictionary\n",
    "token_dict = get_base_dict()  # A dict that contains some special tokens\n",
    "for pairs in sentence_pairs:\n",
    "    for token in pairs[0] + pairs[1]:\n",
    "        if token not in token_dict:\n",
    "            token_dict[token] = len(token_dict)\n",
    "token_list = list(token_dict.keys())  # Used for selecting a random word\n",
    "\n",
    "\n",
    "# Build & train the model\n",
    "model = get_model(\n",
    "    token_num=len(token_dict),\n",
    "    head_num=5,\n",
    "    transformer_num=12,\n",
    "    embed_dim=25,\n",
    "    feed_forward_dim=100,\n",
    "    seq_len=20,\n",
    "    pos_num=20,\n",
    "    dropout_rate=0.05,\n",
    ")\n",
    "compile_model(model)\n",
    "model.summary()"
   ]
  },
  {
   "cell_type": "code",
   "execution_count": null,
   "metadata": {},
   "outputs": [],
   "source": [
    "x_train_new = np.array(x_train.values)\n",
    "x_test_new = np.array(x_test.values)"
   ]
  },
  {
   "cell_type": "code",
   "execution_count": null,
   "metadata": {},
   "outputs": [],
   "source": [
    "model.fit(x_train_new, y_train,\n",
    "    steps_per_epoch=1000,\n",
    "    epochs=100,\n",
    "    validation_data=(x_test_new, y_test),\n",
    "    callbacks=[\n",
    "        keras.callbacks.EarlyStopping(monitor='val_loss', patience=5)\n",
    "    ],\n",
    ")\n",
    "\n",
    "\n",
    "# Use the trained model\n",
    "inputs, output_layer = get_model(\n",
    "    token_num=len(token_dict),\n",
    "    head_num=5,\n",
    "    transformer_num=12,\n",
    "    embed_dim=25,\n",
    "    feed_forward_dim=100,\n",
    "    seq_len=20,\n",
    "    pos_num=20,\n",
    "    dropout_rate=0.05,\n",
    "    training=False,      # The input layers and output layer will be returned if `training` is `False`\n",
    "    trainable=False,     # Whether the model is trainable. The default value is the same with `training`\n",
    "    output_layer_num=4,)  # The number of layers whose outputs will be concatenated as a single output.\n",
    "                         # Only available when `training` is `False`."
   ]
  },
  {
   "cell_type": "code",
   "execution_count": null,
   "metadata": {},
   "outputs": [],
   "source": []
  }
 ],
 "metadata": {
  "kernelspec": {
   "display_name": "DemocratRepublicanNLP",
   "language": "python",
   "name": "democratrepublicannlp"
  },
  "language_info": {
   "codemirror_mode": {
    "name": "ipython",
    "version": 3
   },
   "file_extension": ".py",
   "mimetype": "text/x-python",
   "name": "python",
   "nbconvert_exporter": "python",
   "pygments_lexer": "ipython3",
   "version": "3.8.5"
  }
 },
 "nbformat": 4,
 "nbformat_minor": 2
}
